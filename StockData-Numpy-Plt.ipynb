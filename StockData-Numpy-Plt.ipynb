{
 "cells": [
  {
   "cell_type": "code",
   "execution_count": 3,
   "id": "6f1a058a",
   "metadata": {},
   "outputs": [],
   "source": [
    "#https://www.kaggle.com/datasets/mattiuzc/stock-exchange-data"
   ]
  },
  {
   "cell_type": "code",
   "execution_count": 45,
   "id": "3863300c",
   "metadata": {},
   "outputs": [],
   "source": [
    "import numpy as np\n",
    "import matplotlib.pyplot as plt\n",
    "import csv"
   ]
  },
  {
   "cell_type": "code",
   "execution_count": 46,
   "id": "e9c6dd55",
   "metadata": {},
   "outputs": [
    {
     "data": {
      "text/plain": [
       "array([['Index', 'Date', 'Open', ..., 'Adj Close', 'Volume', 'CloseUSD'],\n",
       "       ['HSI', '1986-12-31', '2568.300049', ..., '2568.300049', '0.0',\n",
       "        '333.87900637'],\n",
       "       ['HSI', '1987-01-02', '2540.100098', ..., '2540.100098', '0.0',\n",
       "        '330.21301274'],\n",
       "       ...,\n",
       "       ['J203.JO', '2021-05-27', '66108.22656', ..., '66940.25', '0.0',\n",
       "        '4685.8175'],\n",
       "       ['J203.JO', '2021-05-28', '66940.25', ..., '67554.85938', '0.0',\n",
       "        '4728.8401566'],\n",
       "       ['J203.JO', '2021-05-31', '67554.85938', ..., '67964.03906',\n",
       "        '0.0', '4757.4827342']], dtype='<U18')"
      ]
     },
     "execution_count": 46,
     "metadata": {},
     "output_type": "execute_result"
    }
   ],
   "source": [
    "with open('./stock-data/indexProcessed.csv', 'r') as f:\n",
    "    reader = csv.reader(f)\n",
    "    data = list(reader)\n",
    "    \n",
    "tradesData = np.array(data)\n",
    "\n",
    "tradesData"
   ]
  },
  {
   "cell_type": "code",
   "execution_count": 47,
   "id": "faf4cf82",
   "metadata": {},
   "outputs": [
    {
     "data": {
      "text/plain": [
       "array([['2568.300049', '2568.300049', '2568.300049', '2568.300049'],\n",
       "       ['2540.100098', '2540.100098', '2540.100098', '2540.100098'],\n",
       "       ['2552.399902', '2552.399902', '2552.399902', '2552.399902'],\n",
       "       ...,\n",
       "       ['66108.22656', '66940.25', '66102.54688', '66940.25'],\n",
       "       ['66940.25', '67726.5625', '66794.60938', '67554.85938'],\n",
       "       ['67554.85938', '68140.85156', '67554.85938', '67964.03906']],\n",
       "      dtype='<U18')"
      ]
     },
     "execution_count": 47,
     "metadata": {},
     "output_type": "execute_result"
    }
   ],
   "source": [
    "trades = tradesData[:, 2:6][1:]\n",
    "trades"
   ]
  },
  {
   "cell_type": "code",
   "execution_count": 57,
   "id": "d00af1e3",
   "metadata": {},
   "outputs": [
    {
     "data": {
      "text/plain": [
       "array(['HSI', 'HSI', 'HSI', ..., 'J203.JO', 'J203.JO', 'J203.JO'],\n",
       "      dtype='<U18')"
      ]
     },
     "execution_count": 57,
     "metadata": {},
     "output_type": "execute_result"
    }
   ],
   "source": [
    "markets = tradesData[:, 0][1:]\n",
    "markets"
   ]
  },
  {
   "cell_type": "code",
   "execution_count": 58,
   "id": "a6623903",
   "metadata": {},
   "outputs": [
    {
     "data": {
      "text/plain": [
       "array(['1986-12-31', '1987-01-02', '1987-01-05', ..., '2021-05-27',\n",
       "       '2021-05-28', '2021-05-31'], dtype='<U18')"
      ]
     },
     "execution_count": 58,
     "metadata": {},
     "output_type": "execute_result"
    }
   ],
   "source": [
    "dates = tradesData[:, 1][1:]\n",
    "dates"
   ]
  },
  {
   "cell_type": "code",
   "execution_count": 60,
   "id": "d783d559",
   "metadata": {},
   "outputs": [
    {
     "data": {
      "text/plain": [
       "array([['п»їRegion', 'Exchange', 'Index', 'Currency'],\n",
       "       ['United States', 'New York Stock Exchange', 'NYA', 'USD'],\n",
       "       ['United States', 'NASDAQ', 'IXIC', 'USD'],\n",
       "       ['Hong Kong', 'Hong Kong Stock Exchange', 'HSI', 'HKD'],\n",
       "       ['China', 'Shanghai Stock Exchange', '000001.SS', 'CNY'],\n",
       "       ['Japan', 'Tokyo Stock Exchange', 'N225', 'JPY'],\n",
       "       ['Europe', 'Euronext', 'N100', 'EUR'],\n",
       "       ['China', 'Shenzhen Stock Exchange', '399001.SZ', 'CNY'],\n",
       "       ['Canada', 'Toronto Stock Exchange', 'GSPTSE', 'CAD'],\n",
       "       ['India', 'National Stock Exchange of India', 'NSEI', 'INR'],\n",
       "       ['Germany', 'Frankfurt Stock Exchange', 'GDAXI', 'EUR'],\n",
       "       ['Korea', 'Korea Exchange', 'KS11', 'KRW'],\n",
       "       ['Switzerland', 'SIX Swiss Exchange', 'SSMI', 'CHF'],\n",
       "       ['Taiwan', 'Taiwan Stock Exchange', 'TWII', 'TWD'],\n",
       "       ['South Africa', 'Johannesburg Stock Exchange', 'J203.JO', 'ZAR']],\n",
       "      dtype='<U32')"
      ]
     },
     "execution_count": 60,
     "metadata": {},
     "output_type": "execute_result"
    }
   ],
   "source": [
    "with open('./stock-data/indexInfo.csv', 'r') as f:\n",
    "    reader = csv.reader(f)\n",
    "    data = list(reader)\n",
    "    \n",
    "info =np.array(data)\n",
    "\n",
    "info"
   ]
  },
  {
   "cell_type": "code",
   "execution_count": 61,
   "id": "30387076",
   "metadata": {},
   "outputs": [
    {
     "data": {
      "text/plain": [
       "((104224, 4), (104224,), (104224,), (15, 4))"
      ]
     },
     "execution_count": 61,
     "metadata": {},
     "output_type": "execute_result"
    }
   ],
   "source": [
    "trades.shape, dates.shape, markets.shape, info.shape"
   ]
  },
  {
   "cell_type": "markdown",
   "id": "cd5b419f",
   "metadata": {},
   "source": [
    "# Get a canadian exchange short name"
   ]
  },
  {
   "cell_type": "code",
   "execution_count": 62,
   "id": "c2d6da77",
   "metadata": {},
   "outputs": [
    {
     "data": {
      "text/plain": [
       "'GSPTSE'"
      ]
     },
     "execution_count": 62,
     "metadata": {},
     "output_type": "execute_result"
    }
   ],
   "source": [
    "market_name = info[info[:, -1]=='CAD'][0, 2]\n",
    "\n",
    "market_name"
   ]
  },
  {
   "cell_type": "markdown",
   "id": "b6eac9bc",
   "metadata": {},
   "source": [
    "# Construct a selection mask"
   ]
  },
  {
   "cell_type": "code",
   "execution_count": 63,
   "id": "064e5f08",
   "metadata": {},
   "outputs": [
    {
     "data": {
      "text/plain": [
       "array(['HSI', 'HSI', 'HSI', ..., 'J203.JO', 'J203.JO', 'J203.JO'],\n",
       "      dtype='<U18')"
      ]
     },
     "execution_count": 63,
     "metadata": {},
     "output_type": "execute_result"
    }
   ],
   "source": [
    "markets"
   ]
  },
  {
   "cell_type": "code",
   "execution_count": 67,
   "id": "f7898b57",
   "metadata": {},
   "outputs": [
    {
     "data": {
      "text/plain": [
       "array([False, False, False, ..., False, False, False])"
      ]
     },
     "execution_count": 67,
     "metadata": {},
     "output_type": "execute_result"
    }
   ],
   "source": [
    "mask_canada = markets == market_name\n",
    "mask_canada"
   ]
  },
  {
   "cell_type": "markdown",
   "id": "f26cba20",
   "metadata": {},
   "source": [
    "# Get the Canadian trade days"
   ]
  },
  {
   "cell_type": "code",
   "execution_count": 68,
   "id": "53af0662",
   "metadata": {},
   "outputs": [
    {
     "data": {
      "text/plain": [
       "array([['2568.300049', '2568.300049', '2568.300049', '2568.300049'],\n",
       "       ['2540.100098', '2540.100098', '2540.100098', '2540.100098'],\n",
       "       ['2552.399902', '2552.399902', '2552.399902', '2552.399902'],\n",
       "       ...,\n",
       "       ['66108.22656', '66940.25', '66102.54688', '66940.25'],\n",
       "       ['66940.25', '67726.5625', '66794.60938', '67554.85938'],\n",
       "       ['67554.85938', '68140.85156', '67554.85938', '67964.03906']],\n",
       "      dtype='<U18')"
      ]
     },
     "execution_count": 68,
     "metadata": {},
     "output_type": "execute_result"
    }
   ],
   "source": [
    "trades"
   ]
  },
  {
   "cell_type": "code",
   "execution_count": 69,
   "id": "1b06f3c7",
   "metadata": {},
   "outputs": [
    {
     "data": {
      "text/plain": [
       "array([['1614.699951', '1619.800049', '1614.699951', '1618.400024'],\n",
       "       ['1613.599976', '1613.599976', '1601.699951', '1602.800049'],\n",
       "       ['1601.5', '1601.5', '1589.5', '1591.400024'],\n",
       "       ...,\n",
       "       ['19768.09961', '19835.30078', '19752.5', '19774.40039'],\n",
       "       ['19876.5', '19904.80078', '19841.0', '19852.19922'],\n",
       "       ['19905.80078', '19909.59961', '19705.80078', '19731.0']],\n",
       "      dtype='<U18')"
      ]
     },
     "execution_count": 69,
     "metadata": {},
     "output_type": "execute_result"
    }
   ],
   "source": [
    "trades_canada = trades[mask_canada ==True]\n",
    "trades_canada"
   ]
  },
  {
   "cell_type": "code",
   "execution_count": 70,
   "id": "02334c37",
   "metadata": {},
   "outputs": [
    {
     "data": {
      "text/plain": [
       "array(['1986-12-31', '1987-01-02', '1987-01-05', ..., '2021-05-27',\n",
       "       '2021-05-28', '2021-05-31'], dtype='<U18')"
      ]
     },
     "execution_count": 70,
     "metadata": {},
     "output_type": "execute_result"
    }
   ],
   "source": [
    "dates"
   ]
  },
  {
   "cell_type": "code",
   "execution_count": 71,
   "id": "ab6ed436",
   "metadata": {},
   "outputs": [
    {
     "data": {
      "text/plain": [
       "array(['1979-06-29', '1979-07-03', '1979-07-04', ..., '2021-05-27',\n",
       "       '2021-05-28', '2021-05-31'], dtype='<U18')"
      ]
     },
     "execution_count": 71,
     "metadata": {},
     "output_type": "execute_result"
    }
   ],
   "source": [
    "dates_canada = dates[mask_canada==True]\n",
    "dates_canada"
   ]
  },
  {
   "cell_type": "code",
   "execution_count": 72,
   "id": "5e0b7b8b",
   "metadata": {},
   "outputs": [
    {
     "data": {
      "text/plain": [
       "((10526, 4), (10526,))"
      ]
     },
     "execution_count": 72,
     "metadata": {},
     "output_type": "execute_result"
    }
   ],
   "source": [
    "trades_canada.shape, dates_canada.shape"
   ]
  },
  {
   "cell_type": "markdown",
   "id": "8371ebce",
   "metadata": {},
   "source": [
    "# Plotting the trades"
   ]
  },
  {
   "cell_type": "markdown",
   "id": "9d0b7ccf",
   "metadata": {},
   "source": [
    "Since our x values are just indices, let's convert them into dates"
   ]
  },
  {
   "cell_type": "code",
   "execution_count": 77,
   "id": "4dd3275c",
   "metadata": {},
   "outputs": [],
   "source": [
    "tickers = np.arange(0, 10526, 1000)\n",
    "labels = dates_canada[tickers]"
   ]
  },
  {
   "cell_type": "code",
   "execution_count": 78,
   "id": "ef1e0a2a",
   "metadata": {},
   "outputs": [
    {
     "data": {
      "text/plain": [
       "array(['1979-06-29', '1983-07-06', '1987-07-07', '1991-06-24',\n",
       "       '1995-06-13', '1999-06-02', '2003-05-23', '2007-05-11',\n",
       "       '2011-05-06', '2015-05-01', '2019-04-26'], dtype='<U18')"
      ]
     },
     "execution_count": 78,
     "metadata": {},
     "output_type": "execute_result"
    }
   ],
   "source": [
    "labels"
   ]
  },
  {
   "cell_type": "code",
   "execution_count": null,
   "id": "79d2a09d",
   "metadata": {},
   "outputs": [],
   "source": [
    "plt.plot(trades_canada[:, 1]);\n",
    "plt.title(f'Closing prices from {dates_canada[0]} to {dates_canada[-1]}');\n",
    "plt.xlabel('Dates')\n",
    "plt.ylabel('$ CAD')\n",
    "plt.show()"
   ]
  },
  {
   "cell_type": "code",
   "execution_count": null,
   "id": "6b35ee6d",
   "metadata": {},
   "outputs": [],
   "source": [
    "plt.plot(trades_canada[:, 0])\n",
    "plt.xticks(tickers, labels, rotation=90)\n",
    "plt.show()"
   ]
  },
  {
   "cell_type": "code",
   "execution_count": null,
   "id": "abf4b06f",
   "metadata": {},
   "outputs": [],
   "source": []
  }
 ],
 "metadata": {
  "kernelspec": {
   "display_name": "Python 3 (ipykernel)",
   "language": "python",
   "name": "python3"
  },
  "language_info": {
   "codemirror_mode": {
    "name": "ipython",
    "version": 3
   },
   "file_extension": ".py",
   "mimetype": "text/x-python",
   "name": "python",
   "nbconvert_exporter": "python",
   "pygments_lexer": "ipython3",
   "version": "3.9.7"
  }
 },
 "nbformat": 4,
 "nbformat_minor": 5
}
